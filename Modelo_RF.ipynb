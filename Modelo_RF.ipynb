{
 "cells": [
  {
   "cell_type": "code",
   "execution_count": 2,
   "metadata": {},
   "outputs": [
    {
     "name": "stdout",
     "output_type": "stream",
     "text": [
      "Versión pandas: 1.0.5\n",
      "Versión numpy: 1.19.5\n",
      "Versión matplotlib: 3.2.2\n"
     ]
    }
   ],
   "source": [
    "import os\n",
    "import pandas as pd\n",
    "import numpy as np\n",
    "import matplotlib\n",
    "import matplotlib.pyplot as plt\n",
    "from pmdarima.arima import ndiffs, nsdiffs\n",
    "from datetime import datetime\n",
    "from sklearn.ensemble import RandomForestRegressor\n",
    "from sklearn.model_selection import RandomizedSearchCV\n",
    "from sklearn.metrics import make_scorer, r2_score\n",
    "from scipy.stats import uniform\n",
    "import seaborn as sns\n",
    "from dateutil.relativedelta import relativedelta\n",
    "from metricas import calculo_metricas\n",
    "\n",
    "import warnings\n",
    "warnings.simplefilter(\"ignore\")\n",
    "\n",
    "# Mostramos las versiones de los módulos para posibles reproducciones del código\n",
    "\n",
    "print('Versión pandas:', pd.__version__)\n",
    "print('Versión numpy:', np.__version__)\n",
    "print('Versión matplotlib:', matplotlib.__version__)\n"
   ]
  },
  {
   "cell_type": "code",
   "execution_count": 3,
   "metadata": {},
   "outputs": [],
   "source": [
    "df = pd.read_csv('Data/dataframe.csv', index_col = 0)\n",
    "df.index = pd.to_datetime(df.index)\n",
    "df = df.drop(columns = [\"Festivo_Regional\", \"Humedad_Relativa\", \"Precipitacion\", \"Radiacion\", \"Velocidad_Viento\"])\n",
    "\n",
    "df.loc[:, \"lag_24\"] = df.Spot_electricidad.shift(24)\n",
    "df.loc[:, \"lag_48\"] = df.Spot_electricidad.shift(48)\n",
    "df.loc[:, \"lag_1_semana\"] = df.Spot_electricidad.shift(24*7)"
   ]
  },
  {
   "cell_type": "code",
   "execution_count": null,
   "metadata": {},
   "outputs": [],
   "source": [
    "db = df.copy()\n",
    "\n",
    "X_train = db.dropna()\n",
    "y_train = X_train.pop('Spot_electricidad')\n",
    "\n",
    "model = RandomForestRegressor(n_estimators = 100,\n",
    "                              criterion = \"mae\",\n",
    "                              max_depth = 20,\n",
    "                              max_features = 'log2').fit(X_train,y_train)"
   ]
  },
  {
   "cell_type": "code",
   "execution_count": null,
   "metadata": {},
   "outputs": [],
   "source": [
    "importance = model.feature_importances_\n",
    "# summarize feature importance\n",
    "for i,v in enumerate(importance):\n",
    "    if v > 0.005:\n",
    "        print(i,v,X_train.columns.tolist()[i])\n",
    "    \n",
    "plt.bar([x for x in range(len(importance))], importance)"
   ]
  },
  {
   "cell_type": "code",
   "execution_count": null,
   "metadata": {},
   "outputs": [],
   "source": [
    "model.predict(X_train[-24:])"
   ]
  },
  {
   "cell_type": "code",
   "execution_count": null,
   "metadata": {},
   "outputs": [],
   "source": [
    "def bascktesting_random_forest(db, año, mes, rolling_window, days_start):\n",
    "    fecha = datetime(año, mes, 1)\n",
    "    fecha_str = str(año) + '-' + str(mes) + '-' + str(1)\n",
    "    \n",
    "    db = db.dropna()\n",
    "    array_real, array_pred, array_date = np.zeros(len(db.loc[fecha_str:])), np.zeros(len(db.loc[fecha_str:])), []\n",
    "\n",
    "    # En caso de que haya rolling window\n",
    "    if rolling_window == True:\n",
    "        for day in range(int(len(db.loc[fecha_str:]) / 24)):\n",
    "            print(day)\n",
    "            fecha_end_train = fecha + relativedelta(days = day)\n",
    "            fecha_start_train = fecha_end_train - relativedelta(days = days_start)\n",
    "            fecha_end_train = str(fecha_end_train.year) + \"-\" + str(fecha_end_train.month) + \"-\" + str(fecha_end_train.day)\n",
    "            fecha_start_train = str(fecha_start_train.year) + \"-\" + str(fecha_start_train.month) + \"-\" + str(fecha_start_train.day)\n",
    "            db_aux = db.loc[fecha_start_train:fecha_end_train]\n",
    "            \n",
    "            # Dataframe de Entrenamiento\n",
    "            X_train = sm.add_constant(db_aux)\n",
    "            y_train = X_train.pop('Spot_electricidad')\n",
    "            \n",
    "            # Dataframe de Test\n",
    "            X_test = X_train.loc[fecha_end_train]\n",
    "            y_test = y_train.pop(fecha_end_train)\n",
    "\n",
    "            # Quitamos al dataframe de train, el dataframe de test\n",
    "            X_train = X_train.drop(index = X_train.iloc[-24:].index)\n",
    "\n",
    "            # Entrenamos el modelo\n",
    "            model = RandomForestRegressor(n_estimators = 100,\n",
    "                              criterion = \"mae\",\n",
    "                              max_depth = 20,\n",
    "                              max_features = 'log2').fit(X_train,y_train)\n",
    "            \n",
    "            # Realizamos las predicciones\n",
    "            pred = model.predict(X_test)\n",
    "            date = pred.index\n",
    "\n",
    "            array_date.append(date)\n",
    "            array_pred[day*24:day*24 + 24] = pred\n",
    "            array_real[day*24:day*24 + 24] = y_test\n",
    "        \n",
    "    # En caso de que no haya rolling window, siempre cogemos todo el dataframe disponible\n",
    "    else:\n",
    "        for day in range(int(len(db.loc[fecha_str:]) / 24)):\n",
    "            print(day)\n",
    "            fecha_end_train = fecha + relativedelta(days = day)\n",
    "            fecha_end_train = str(fecha_end_train.year) + \"-\" + str(fecha_end_train.month) + \"-\" + str(fecha_end_train.day)\n",
    "            db_aux = db.loc[:fecha_end_train]\n",
    "\n",
    "            # Dataframe de Entrenamiento\n",
    "            X_train = sm.add_constant(db_aux)\n",
    "            y_train = X_train.pop('Spot_electricidad')\n",
    "            \n",
    "            # Dataframe de Test\n",
    "            X_test = X_train.loc[fecha_end_train]\n",
    "            y_test = y_train.pop(fecha_end_train)\n",
    "            \n",
    "            # Quitamos al dataframe de train, el dataframe de test\n",
    "            X_train = X_train.drop(index = X_train.iloc[-24:].index)\n",
    "            \n",
    "            # Entrenamos el modelo\n",
    "            model = RandomForestRegressor(n_estimators = 100,\n",
    "                              criterion = \"mae\",\n",
    "                              max_depth = 20,\n",
    "                              max_features = 'log2').fit(X_train,y_train)\n",
    "            \n",
    "            # Realizamos las predicciones\n",
    "            pred = model.predict(X_test)\n",
    "            date = pred.index\n",
    "\n",
    "            array_date.append(date)\n",
    "            array_pred[day*24:day*24 + 24] = pred\n",
    "            array_real[day*24:day*24 + 24] = y_test\n",
    "            \n",
    "    array_date = [item for sublist in array_date for item in sublist]\n",
    "    return array_pred, array_real, array_date\n",
    "\n",
    "pred, real, dates = bascktesting_random_forest(db.loc[\"2019\":], 2020, 6, rolling_window = True, days_start = 30)"
   ]
  }
 ],
 "metadata": {
  "kernelspec": {
   "display_name": "Python 3",
   "language": "python",
   "name": "python3"
  },
  "language_info": {
   "codemirror_mode": {
    "name": "ipython",
    "version": 3
   },
   "file_extension": ".py",
   "mimetype": "text/x-python",
   "name": "python",
   "nbconvert_exporter": "python",
   "pygments_lexer": "ipython3",
   "version": "3.8.3"
  }
 },
 "nbformat": 4,
 "nbformat_minor": 4
}
