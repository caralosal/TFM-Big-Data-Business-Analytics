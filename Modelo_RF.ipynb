{
 "cells": [
  {
   "cell_type": "code",
   "execution_count": 1,
   "metadata": {},
   "outputs": [
    {
     "name": "stdout",
     "output_type": "stream",
     "text": [
      "Versión pandas: 1.0.5\n",
      "Versión numpy: 1.19.5\n",
      "Versión matplotlib: 3.2.2\n"
     ]
    }
   ],
   "source": [
    "import os\n",
    "import pandas as pd\n",
    "import numpy as np\n",
    "import matplotlib\n",
    "import matplotlib.pyplot as plt\n",
    "from pmdarima.arima import ndiffs, nsdiffs\n",
    "from datetime import datetime\n",
    "from sklearn.ensemble import RandomForestRegressor\n",
    "from sklearn.model_selection import RandomizedSearchCV\n",
    "from sklearn.metrics import make_scorer, r2_score\n",
    "from scipy.stats import uniform\n",
    "import seaborn as sns\n",
    "from dateutil.relativedelta import relativedelta\n",
    "from metricas import calculo_metricas\n",
    "\n",
    "import warnings\n",
    "warnings.simplefilter(\"ignore\")\n",
    "\n",
    "# Mostramos las versiones de los módulos para posibles reproducciones del código\n",
    "\n",
    "print('Versión pandas:', pd.__version__)\n",
    "print('Versión numpy:', np.__version__)\n",
    "print('Versión matplotlib:', matplotlib.__version__)\n"
   ]
  },
  {
   "cell_type": "markdown",
   "metadata": {},
   "source": [
    "### Hiperparameter tuning (Bayesian Optimization)"
   ]
  },
  {
   "cell_type": "code",
   "execution_count": 2,
   "metadata": {},
   "outputs": [],
   "source": [
    "df = pd.read_csv('Data/dataframe.csv', index_col = 0)\n",
    "df.index = pd.to_datetime(df.index)\n",
    "df = df.drop(columns = [\"Festivo_Regional\", \"Humedad_Relativa\", \"Precipitacion\", \"Radiacion\", \"Velocidad_Viento\"])\n",
    "\n",
    "df.loc[:, \"lag_24\"] = df.Spot_electricidad.shift(24)\n",
    "df.loc[:, \"lag_48\"] = df.Spot_electricidad.shift(48)\n",
    "df.loc[:, \"lag_1_semana\"] = df.Spot_electricidad.shift(24*7)"
   ]
  },
  {
   "cell_type": "code",
   "execution_count": 4,
   "metadata": {},
   "outputs": [],
   "source": [
    "db = df.copy()\n",
    "\n",
    "X_train = db.dropna()\n",
    "y_train = X_train.pop('Spot_electricidad')\n",
    "\n",
    "model = RandomForestRegressor(n_estimators = 100,\n",
    "                              criterion = \"mae\",\n",
    "                              max_depth = 20,\n",
    "                              max_features = X_train.shape[1] - 1).fit(X_train,y_train)"
   ]
  },
  {
   "cell_type": "code",
   "execution_count": 5,
   "metadata": {},
   "outputs": [
    {
     "name": "stdout",
     "output_type": "stream",
     "text": [
      "0 0.025854817339995086 Prevision_Demanda\n",
      "1 0.02223343086800669 Prevision_Eol_Fotov\n",
      "2 0.05505107187893825 Hueco_Termico\n",
      "33 0.11510398736718531 MIBGAS_FW1D\n",
      "34 0.11426543763326691 Precio_max\n",
      "35 0.07809041419615993 Precio_min\n",
      "36 0.03191329047073839 Spred_precio\n",
      "37 0.013955365131643322 Temperatura\n",
      "38 0.013958864265489465 Temperatura_max\n",
      "39 0.01738629095674486 Temperatura_min\n",
      "40 0.009685808641902554 Spred_temperatura\n",
      "41 0.050539984454128606 Brent\n",
      "42 0.06191581023114633 Api2\n",
      "43 0.028079989904881933 IBEX\n",
      "44 0.13220587875342107 lag_24\n",
      "45 0.1044606957372886 lag_48\n",
      "46 0.09949063895789995 lag_1_semana\n"
     ]
    },
    {
     "data": {
      "text/plain": [
       "<BarContainer object of 47 artists>"
      ]
     },
     "execution_count": 5,
     "metadata": {},
     "output_type": "execute_result"
    },
    {
     "data": {
      "image/png": "[encoded data removed]",
      "text/plain": [
       "<Figure size 432x288 with 1 Axes>"
      ]
     },
     "metadata": {
      "needs_background": "light"
     },
     "output_type": "display_data"
    }
   ],
   "source": [
    "importance = model.feature_importances_\n",
    "# summarize feature importance\n",
    "for i,v in enumerate(importance):\n",
    "    if v > 0.005:\n",
    "        print(i,v,X_train.columns.tolist()[i])\n",
    "    \n",
    "plt.bar([x for x in range(len(importance))], importance)"
   ]
  },
  {
   "cell_type": "markdown",
   "metadata": {},
   "source": [
    "### Parameters:\n",
    "\n",
    "- n_estimators=100\n",
    "- criterion='mse'\n",
    "- max_depth=None\n",
    "- min_samples_split=2\n",
    "- min_samples_leaf=1\n",
    "- min_weight_fraction_leaf=0.0\n",
    "- max_features='auto'\n",
    "- max_leaf_nodes=None\n",
    "- min_impurity_decrease=0.0\n",
    "- min_impurity_split=None\n",
    "- bootstrap=True\n",
    "- oob_score=False\n",
    "- n_jobs=None\n",
    "- random_state=None\n",
    "- verbose=0\n",
    "- warm_start=False\n",
    "- ccp_alpha=0.0\n",
    "- max_samples=None"
   ]
  },
  {
   "cell_type": "code",
   "execution_count": null,
   "metadata": {
    "scrolled": true
   },
   "outputs": [
    {
     "name": "stdout",
     "output_type": "stream",
     "text": [
      "0\n",
      "1\n",
      "2\n",
      "3\n",
      "4\n",
      "5\n",
      "6\n",
      "7\n",
      "8\n",
      "9\n",
      "10\n",
      "11\n",
      "12\n",
      "13\n",
      "14\n",
      "15\n",
      "16\n",
      "17\n",
      "18\n",
      "19\n",
      "20\n",
      "21\n",
      "22\n",
      "23\n",
      "24\n",
      "25\n",
      "26\n",
      "27\n",
      "28\n",
      "29\n",
      "30\n",
      "31\n",
      "32\n",
      "33\n",
      "34\n",
      "35\n",
      "36\n",
      "37\n",
      "38\n",
      "39\n",
      "40\n",
      "41\n",
      "42\n",
      "43\n",
      "44\n",
      "45\n",
      "46\n",
      "47\n",
      "48\n",
      "49\n",
      "50\n",
      "51\n",
      "52\n",
      "53\n",
      "54\n",
      "55\n",
      "56\n",
      "57\n",
      "58\n",
      "59\n",
      "60\n",
      "61\n",
      "62\n",
      "63\n",
      "64\n",
      "65\n",
      "66\n",
      "67\n",
      "68\n",
      "69\n",
      "70\n",
      "71\n",
      "72\n",
      "73\n",
      "74\n",
      "75\n",
      "76\n",
      "77\n",
      "78\n",
      "79\n",
      "80\n",
      "81\n",
      "82\n",
      "83\n",
      "84\n",
      "85\n",
      "86\n",
      "87\n",
      "88\n",
      "89\n",
      "90\n",
      "91\n",
      "92\n",
      "93\n",
      "94\n",
      "95\n",
      "96\n",
      "97\n",
      "98\n",
      "99\n",
      "100\n",
      "101\n",
      "102\n",
      "103\n",
      "104\n",
      "105\n",
      "106\n",
      "107\n",
      "108\n",
      "109\n",
      "110\n",
      "111\n",
      "112\n",
      "113\n",
      "114\n",
      "115\n",
      "116\n",
      "117\n",
      "118\n",
      "119\n",
      "120\n",
      "121\n",
      "122\n",
      "123\n",
      "124\n",
      "125\n",
      "126\n",
      "127\n",
      "128\n",
      "129\n",
      "130\n",
      "131\n",
      "132\n",
      "133\n",
      "134\n",
      "135\n",
      "136\n",
      "137\n",
      "138\n",
      "139\n",
      "140\n",
      "141\n",
      "142\n",
      "143\n",
      "144\n",
      "145\n",
      "146\n",
      "147\n",
      "148\n",
      "149\n",
      "150\n",
      "151\n",
      "152\n",
      "153\n",
      "154\n",
      "155\n",
      "156\n",
      "157\n",
      "158\n",
      "159\n",
      "160\n",
      "161\n",
      "162\n",
      "163\n",
      "164\n",
      "165\n",
      "166\n",
      "167\n",
      "168\n",
      "169\n",
      "170\n",
      "171\n",
      "172\n",
      "173\n",
      "174\n",
      "175\n",
      "176\n",
      "177\n",
      "178\n",
      "179\n",
      "180\n",
      "181\n",
      "182\n",
      "183\n",
      "184\n",
      "185\n",
      "186\n",
      "187\n",
      "188\n",
      "189\n",
      "190\n",
      "191\n",
      "192\n",
      "193\n",
      "194\n"
     ]
    }
   ],
   "source": [
    "def bascktesting_random_forest(db, año, mes, rolling_window, days_start):\n",
    "    fecha = datetime(año, mes, 1)\n",
    "    fecha_str = str(año) + '-' + str(mes) + '-' + str(1)\n",
    "    \n",
    "    db = db.dropna()\n",
    "    array_real, array_pred, array_date = np.zeros(len(db.loc[fecha_str:])), np.zeros(len(db.loc[fecha_str:])), []\n",
    "\n",
    "    # En caso de que haya rolling window\n",
    "    if rolling_window == True:\n",
    "        for day in range(int(len(db.loc[fecha_str:]) / 24)):\n",
    "            print(day)\n",
    "            fecha_end_train = fecha + relativedelta(days = day)\n",
    "            fecha_start_train = fecha_end_train - relativedelta(days = days_start)\n",
    "            fecha_end_train = str(fecha_end_train.year) + \"-\" + str(fecha_end_train.month) + \"-\" + str(fecha_end_train.day)\n",
    "            fecha_start_train = str(fecha_start_train.year) + \"-\" + str(fecha_start_train.month) + \"-\" + str(fecha_start_train.day)\n",
    "            db_aux = db.loc[fecha_start_train:fecha_end_train]\n",
    "            \n",
    "            # Dataframe de Entrenamiento\n",
    "            X_train = db_aux\n",
    "            y_train = X_train.pop('Spot_electricidad')\n",
    "            \n",
    "            # Dataframe de Test\n",
    "            X_test = X_train.loc[fecha_end_train]\n",
    "            y_test = y_train.pop(fecha_end_train)\n",
    "\n",
    "            # Quitamos al dataframe de train, el dataframe de test\n",
    "            X_train = X_train.drop(index = X_train.iloc[-24:].index)\n",
    "\n",
    "            # Entrenamos el modelo\n",
    "            model = RandomForestRegressor(n_estimators = 150,\n",
    "                              criterion = \"mae\",\n",
    "                              max_depth = None,\n",
    "                              max_features = X_train.shape[1]- 1,\n",
    "                              n_jobs = -1,\n",
    "                              warm_start = False,\n",
    "                              random_state = 123).fit(X_train,y_train)\n",
    "            \n",
    "            # Realizamos las predicciones\n",
    "            pred = model.predict(X_test)\n",
    "            date = X_test.index\n",
    "\n",
    "            array_date.append(date)\n",
    "            array_pred[day*24:day*24 + 24] = pred\n",
    "            array_real[day*24:day*24 + 24] = y_test\n",
    "        \n",
    "    # En caso de que no haya rolling window, siempre cogemos todo el dataframe disponible\n",
    "    else:\n",
    "        for day in range(int(len(db.loc[fecha_str:]) / 24)):\n",
    "            print(day)\n",
    "            fecha_end_train = fecha + relativedelta(days = day)\n",
    "            fecha_end_train = str(fecha_end_train.year) + \"-\" + str(fecha_end_train.month) + \"-\" + str(fecha_end_train.day)\n",
    "            db_aux = db.loc[:fecha_end_train]\n",
    "\n",
    "            # Dataframe de Entrenamiento\n",
    "            X_train = db_aux\n",
    "            y_train = X_train.pop('Spot_electricidad')\n",
    "            \n",
    "            # Dataframe de Test\n",
    "            X_test = X_train.loc[fecha_end_train]\n",
    "            y_test = y_train.pop(fecha_end_train)\n",
    "            \n",
    "            # Quitamos al dataframe de train, el dataframe de test\n",
    "            X_train = X_train.drop(index = X_train.iloc[-24:].index)\n",
    "            \n",
    "            # Entrenamos el modelo\n",
    "            model = RandomForestRegressor(n_estimators = 100,\n",
    "                              criterion = \"mae\",\n",
    "                              max_depth = None,\n",
    "                              max_features = X_train.shape[1] - 1,\n",
    "                              n_jobs = -1,\n",
    "                              random_state = 123).fit(X_train,y_train)\n",
    "            \n",
    "            # Realizamos las predicciones\n",
    "            pred = model.predict(X_test)\n",
    "            date = X_test.index\n",
    "\n",
    "            array_date.append(date)\n",
    "            array_pred[day*24:day*24 + 24] = pred\n",
    "            array_real[day*24:day*24 + 24] = y_test\n",
    "            \n",
    "    array_date = [item for sublist in array_date for item in sublist]\n",
    "    return array_pred, array_real, array_date\n",
    "\n",
    "pred, real, dates = bascktesting_random_forest(db.loc[\"2019\":], 2021, 1, rolling_window = True, days_start = 60)"
   ]
  },
  {
   "cell_type": "markdown",
   "metadata": {},
   "source": [
    "### Calculo de las metricas"
   ]
  },
  {
   "cell_type": "code",
   "execution_count": 36,
   "metadata": {},
   "outputs": [
    {
     "name": "stdout",
     "output_type": "stream",
     "text": [
      "     MAE  MAE (median)   MAPE  WMAPE   RMSE  % Trend\n",
      "0  10.36          6.18  71.16   9.26  16.95     83.0\n"
     ]
    }
   ],
   "source": [
    "resultados = pd.DataFrame({\"Pred\":pred, \"Real\":real}, index = dates)\n",
    "resultados[\"Pred\"][resultados.loc[:, \"Pred\"] < 0] = 0\n",
    "\n",
    "rf, rf_metricas_mensuales, met = calculo_metricas(resultados)"
   ]
  },
  {
   "cell_type": "code",
   "execution_count": 37,
   "metadata": {},
   "outputs": [
    {
     "data": {
      "text/plain": [
       "<matplotlib.axes._subplots.AxesSubplot at 0x1f1db8434f0>"
      ]
     },
     "execution_count": 37,
     "metadata": {},
     "output_type": "execute_result"
    },
    {
     "data": {
      "image/png": "[encoded data removed]",
      "text/plain": [
       "<Figure size 432x288 with 1 Axes>"
      ]
     },
     "metadata": {
      "needs_background": "light"
     },
     "output_type": "display_data"
    }
   ],
   "source": [
    "rf[[\"Pred\", \"Real\"]].loc[\"2021-11-20\"].plot()"
   ]
  },
  {
   "cell_type": "markdown",
   "metadata": {},
   "source": [
    "### Optimizacion Bayesiana"
   ]
  }
 ],
 "metadata": {
  "kernelspec": {
   "display_name": "Python 3",
   "language": "python",
   "name": "python3"
  },
  "language_info": {
   "codemirror_mode": {
    "name": "ipython",
    "version": 3
   },
   "file_extension": ".py",
   "mimetype": "text/x-python",
   "name": "python",
   "nbconvert_exporter": "python",
   "pygments_lexer": "ipython3",
   "version": "3.8.3"
  }
 },
 "nbformat": 4,
 "nbformat_minor": 4
}
