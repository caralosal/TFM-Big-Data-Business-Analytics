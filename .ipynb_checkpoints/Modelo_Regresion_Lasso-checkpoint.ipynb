{
 "cells": [
  {
   "cell_type": "code",
   "execution_count": 1,
   "metadata": {},
   "outputs": [
    {
     "name": "stdout",
     "output_type": "stream",
     "text": [
      "Versión pandas: 1.0.5\n",
      "Versión numpy: 1.19.5\n",
      "Versión matplotlib: 3.2.2\n",
      "Version statsmodels 0.12.2\n"
     ]
    }
   ],
   "source": [
    "import os\n",
    "import pandas as pd\n",
    "import numpy as np\n",
    "import matplotlib\n",
    "import matplotlib.pyplot as plt\n",
    "from datetime import datetime\n",
    "import statsmodels.api as sm\n",
    "from statsmodels.graphics.tsaplots import plot_acf, plot_pacf\n",
    "import seaborn as sns\n",
    "from dateutil.relativedelta import relativedelta\n",
    "from metricas import mae, mape, rmse\n",
    "from scipy.stats import pearsonr\n",
    "from sklearn.model_selection import train_test_split\n",
    "from sklearn.metrics import mean_squared_error\n",
    "from sklearn.linear_model import LinearRegression\n",
    "from sklearn.linear_model import Ridge\n",
    "from sklearn.linear_model import Lasso\n",
    "from sklearn.linear_model import ElasticNet\n",
    "from sklearn.linear_model import RidgeCV\n",
    "from sklearn.linear_model import LassoCV\n",
    "from sklearn.linear_model import ElasticNetCV\n",
    "\n",
    "\n",
    "import warnings\n",
    "warnings.simplefilter(\"ignore\")\n",
    "\n",
    "# Mostramos las versiones de los módulos para posibles reproducciones del código\n",
    "\n",
    "print('Versión pandas:', pd.__version__)\n",
    "print('Versión numpy:', np.__version__)\n",
    "print('Versión matplotlib:', matplotlib.__version__)\n",
    "print('Version statsmodels', sm.__version__)\n"
   ]
  },
  {
   "cell_type": "code",
   "execution_count": 2,
   "metadata": {},
   "outputs": [],
   "source": [
    "df = pd.read_csv('Data/datos_horarios_prediccion_electricidad.csv', index_col = 0)\n",
    "\n",
    "df.index = pd.to_datetime(df.index)\n",
    "\n",
    "df = df.sort_index()\n",
    "\n",
    "\n",
    "db = df.dropna()\n",
    "# db = db.drop(columns = [\"Prevision_Demanda\", \"Prevision_Eol_Fotov\", \"Festivo_Regional\", \"Festivo_Nacional\"])\n",
    "db.loc[:, \"lag_24\"] = db.Spot_electricidad.shift(24)\n",
    "db.loc[:, \"lag_48\"] = db.Spot_electricidad.shift(48)\n",
    "db.loc[:, \"lag_1_semana\"] = db.Spot_electricidad.shift(24*7)\n",
    "\n",
    "db = db.dropna()\n",
    "X_train = db.copy()\n",
    "y_train = X_train.pop('Spot_electricidad')"
   ]
  },
  {
   "cell_type": "markdown",
   "metadata": {},
   "source": [
    "# Ridge"
   ]
  },
  {
   "cell_type": "code",
   "execution_count": 3,
   "metadata": {},
   "outputs": [],
   "source": [
    "# Creación y entrenamiento del modelo (con búsqueda por CV del valor óptimo alpha)\n",
    "# ==============================================================================\n",
    "# Por defecto LassoCV utiliza el mean squared error\n",
    "modelo = LassoCV(\n",
    "            alphas          = np.logspace(-10, 3, 200),\n",
    "            normalize       = True,\n",
    "            cv              = 10\n",
    "         )\n",
    "_ = modelo.fit(X = X_train, y = y_train)"
   ]
  },
  {
   "cell_type": "code",
   "execution_count": null,
   "metadata": {},
   "outputs": [],
   "source": [
    "# Evolución de los coeficientes en función de alpha\n",
    "# ==============================================================================\n",
    "alphas = modelo.alphas_\n",
    "coefs = []\n",
    "\n",
    "for alpha in alphas:\n",
    "    modelo_temp = Lasso(alpha=alpha, fit_intercept=False, normalize=True)\n",
    "    modelo_temp.fit(X_train, y_train)\n",
    "    coefs.append(modelo_temp.coef_.flatten())\n",
    "\n",
    "fig, ax = plt.subplots(figsize=(7, 3.84))\n",
    "ax.plot(alphas, coefs)\n",
    "ax.set_xscale('log')\n",
    "ax.set_ylim([-15,None])\n",
    "ax.set_xlabel('alpha')\n",
    "ax.set_ylabel('coeficientes')\n",
    "ax.set_title('Coeficientes del modelo en función de la regularización');"
   ]
  },
  {
   "cell_type": "code",
   "execution_count": null,
   "metadata": {},
   "outputs": [],
   "source": [
    "# Número de predictores incluidos (coeficiente !=0) en función de alpha\n",
    "# ==============================================================================\n",
    "alphas = modelo.alphas_\n",
    "n_predictores = []\n",
    "\n",
    "for alpha in alphas:\n",
    "    modelo_temp = Lasso(alpha=alpha, fit_intercept=False, normalize=True)\n",
    "    modelo_temp.fit(X_train, y_train)\n",
    "    coef_no_cero = np.sum(modelo_temp.coef_.flatten() != 0)\n",
    "    n_predictores.append(coef_no_cero)\n",
    "\n",
    "fig, ax = plt.subplots(figsize=(7, 3.84))\n",
    "ax.plot(alphas, n_predictores)\n",
    "ax.set_xscale('log')\n",
    "ax.set_ylim([-15,None])\n",
    "ax.set_xlabel('alpha')\n",
    "ax.set_ylabel('nº predictores')\n",
    "ax.set_title('Predictores incluidos en función de la regularización');"
   ]
  },
  {
   "cell_type": "code",
   "execution_count": 19,
   "metadata": {},
   "outputs": [
    {
     "data": {
      "image/png": "[encoded data removed]",
      "text/plain": [
       "<Figure size 504x276.48 with 1 Axes>"
      ]
     },
     "metadata": {
      "needs_background": "light"
     },
     "output_type": "display_data"
    }
   ],
   "source": []
  },
  {
   "cell_type": "code",
   "execution_count": 20,
   "metadata": {},
   "outputs": [
    {
     "name": "stdout",
     "output_type": "stream",
     "text": [
      "Mejor valor de alpha encontrado: 0.00025529080682395165\n"
     ]
    }
   ],
   "source": [
    "# Mejor valor alpha encontrado\n",
    "# ==============================================================================\n",
    "print(f\"Mejor valor de alpha encontrado: {modelo.alpha_}\")"
   ]
  },
  {
   "cell_type": "code",
   "execution_count": 21,
   "metadata": {},
   "outputs": [
    {
     "data": {
      "image/png": "[encoded data removed]",
      "text/plain": [
       "<Figure size 1224x432 with 1 Axes>"
      ]
     },
     "metadata": {
      "needs_background": "light"
     },
     "output_type": "display_data"
    }
   ],
   "source": [
    "# Coeficientes del modelo\n",
    "# ==============================================================================\n",
    "df_coeficientes = pd.DataFrame(\n",
    "                        {'predictor': X_train.columns,\n",
    "                         'coef': modelo.coef_.flatten()}\n",
    "                  )\n",
    "\n",
    "fig, ax = plt.subplots(figsize=(17, 6))\n",
    "ax.stem(df_coeficientes.predictor, df_coeficientes.coef, markerfmt=' ')\n",
    "plt.xticks(rotation=90, ha='right', size=5)\n",
    "ax.set_xlabel('variable')\n",
    "ax.set_ylabel('coeficientes')\n",
    "ax.set_title('Coeficientes del modelo');"
   ]
  },
  {
   "cell_type": "markdown",
   "metadata": {},
   "source": [
    "### Backtesting"
   ]
  },
  {
   "cell_type": "code",
   "execution_count": 27,
   "metadata": {
    "scrolled": true
   },
   "outputs": [],
   "source": [
    "def bascktesting_regresion_lineal(db, año, mes, rolling_window, days_start):\n",
    "    fecha = datetime(año, mes, 1)\n",
    "    fecha_str = str(año) + '-' + str(mes) + '-' + str(1)\n",
    "    \n",
    "    db = db.dropna()\n",
    "    array_real, array_pred, array_date = np.zeros(len(db.loc[fecha_str:])), np.zeros(len(db.loc[fecha_str:])), []\n",
    "\n",
    "    # En caso de que haya rolling window\n",
    "    if rolling_window == True:\n",
    "        for day in range(int(len(db.loc[fecha_str:]) / 24)):\n",
    "            fecha_end_train = fecha + relativedelta(days = day)\n",
    "            fecha_start_train = fecha_end_train - relativedelta(days = days_start)\n",
    "            fecha_end_train = str(fecha_end_train.year) + \"-\" + str(fecha_end_train.month) + \"-\" + str(fecha_end_train.day)\n",
    "            fecha_start_train = str(fecha_start_train.year) + \"-\" + str(fecha_start_train.month) + \"-\" + str(fecha_start_train.day)\n",
    "            db_aux = db.loc[fecha_start_train:fecha_end_train]\n",
    "            \n",
    "            # Dataframe de Entrenamiento\n",
    "            X_train = db_aux.copy()\n",
    "            y_train = X_train.pop('Spot_electricidad')\n",
    "            \n",
    "            # Dataframe de Test\n",
    "            X_test = X_train.loc[fecha_end_train]\n",
    "            y_test = y_train.pop(fecha_end_train)\n",
    "\n",
    "            # Quitamos al dataframe de train, el dataframe de test\n",
    "            X_train = X_train.drop(index = X_train.iloc[-24:].index)\n",
    "\n",
    "            # Entrenamos el model\n",
    "            model = RidgeCV(\n",
    "            alphas          = np.logspace(-10, 5, 200),\n",
    "            fit_intercept   = True,\n",
    "            normalize       = True,\n",
    "            store_cv_values = True\n",
    "             )\n",
    "\n",
    "            _ = model.fit(X = X_train, y = y_train)\n",
    "            \n",
    "            # Realizamos las predicciones\n",
    "            pred = model.predict(X_test)\n",
    "            date = X_test.index\n",
    "\n",
    "            array_date.append(date)\n",
    "            array_pred[day*24:day*24 + 24] = pred\n",
    "            array_real[day*24:day*24 + 24] = y_test\n",
    "    # En caso de que no haya rolling window, siempre cogemos todo el dataframe disponible\n",
    "    else:\n",
    "        for day in range(int(len(db.loc[fecha_str:]) / 24)):\n",
    "            fecha_end_train = fecha + relativedelta(days = day)\n",
    "            fecha_end_train = str(fecha_end_train.year) + \"-\" + str(fecha_end_train.month) + \"-\" + str(fecha_end_train.day)\n",
    "            db_aux = db.loc[:fecha_end_train]\n",
    "\n",
    "            # Dataframe de Entrenamiento\n",
    "            X_train = db_aux.copy()\n",
    "            y_train = X_train.pop('Spot_electricidad')\n",
    "            \n",
    "            # Dataframe de Test\n",
    "            X_test = X_train.loc[fecha_end_train]\n",
    "            y_test = y_train.pop(fecha_end_train)\n",
    "            \n",
    "            # Quitamos al dataframe de train, el dataframe de test\n",
    "            X_train = X_train.drop(index = X_train.iloc[-24:].index)\n",
    "            \n",
    "            # Entrenamos el model\n",
    "            model = RidgeCV(\n",
    "            alphas          = np.logspace(-10, 5, 200),\n",
    "            fit_intercept   = True,\n",
    "            normalize       = True,\n",
    "            store_cv_values = True\n",
    "             )\n",
    "\n",
    "            _ = model.fit(X = X_train, y = y_train)\n",
    "            \n",
    "            # Realizamos las predicciones\n",
    "            pred = model.predict(X_test)\n",
    "            date = X_test.index\n",
    "\n",
    "            array_date.append(date)\n",
    "            array_pred[day*24:day*24 + 24] = pred\n",
    "            array_real[day*24:day*24 + 24] = y_test\n",
    "            print(day)\n",
    "    array_date = [item for sublist in array_date for item in sublist]\n",
    "    return array_pred, array_real, array_date\n",
    "    \n",
    "pred, real, dates = bascktesting_regresion_lineal(db.loc[\"2019\":\"2021-04\"], 2020, 1, rolling_window = True, days_start = 45)"
   ]
  },
  {
   "cell_type": "markdown",
   "metadata": {},
   "source": [
    "### Backtesting rapido"
   ]
  },
  {
   "cell_type": "code",
   "execution_count": null,
   "metadata": {},
   "outputs": [
    {
     "name": "stdout",
     "output_type": "stream",
     "text": [
      "7\n",
      "Media  MAE en el periodo: 5.79 €/MWh\n",
      "Desviacion estandar del  MAE : 6.619 €/MWh\n",
      "\n",
      "Media  MAPE en el periodo: 36.28 %\n",
      "Desviacion estandar del  MAPE : 345.363 %\n",
      "\n",
      "El RMSE para el periodo es: 8.793 €/MWh\n",
      "Porcentaje de acierto tendencias: 81.28\n",
      "14\n",
      "Media  MAE en el periodo: 4.87 €/MWh\n",
      "Desviacion estandar del  MAE : 4.908 €/MWh\n",
      "\n",
      "Media  MAPE en el periodo: 30.893 %\n",
      "Desviacion estandar del  MAPE : 309.416 %\n",
      "\n",
      "El RMSE para el periodo es: 6.914 €/MWh\n",
      "Porcentaje de acierto tendencias: 82.37\n",
      "21\n",
      "Media  MAE en el periodo: 4.813 €/MWh\n",
      "Desviacion estandar del  MAE : 5.042 €/MWh\n",
      "\n",
      "Media  MAPE en el periodo: 26.641 %\n",
      "Desviacion estandar del  MAPE : 269.727 %\n",
      "\n",
      "El RMSE para el periodo es: 6.97 €/MWh\n",
      "Porcentaje de acierto tendencias: 82.97\n",
      "30\n",
      "Media  MAE en el periodo: 4.672 €/MWh\n",
      "Desviacion estandar del  MAE : 4.864 €/MWh\n",
      "\n",
      "Media  MAPE en el periodo: 29.445 %\n",
      "Desviacion estandar del  MAPE : 333.149 %\n",
      "\n",
      "El RMSE para el periodo es: 6.744 €/MWh\n",
      "Porcentaje de acierto tendencias: 83.31\n",
      "60\n",
      "Media  MAE en el periodo: 4.567 €/MWh\n",
      "Desviacion estandar del  MAE : 4.633 €/MWh\n",
      "\n",
      "Media  MAPE en el periodo: 37.887 %\n",
      "Desviacion estandar del  MAPE : 361.783 %\n",
      "\n",
      "El RMSE para el periodo es: 6.505 €/MWh\n",
      "Porcentaje de acierto tendencias: 83.7\n",
      "90\n",
      "Media  MAE en el periodo: 4.824 €/MWh\n",
      "Desviacion estandar del  MAE : 4.79 €/MWh\n",
      "\n",
      "Media  MAPE en el periodo: 42.691 %\n",
      "Desviacion estandar del  MAPE : 408.028 %\n",
      "\n",
      "El RMSE para el periodo es: 6.798 €/MWh\n",
      "Porcentaje de acierto tendencias: 83.43\n",
      "150\n",
      "Media  MAE en el periodo: 4.735 €/MWh\n",
      "Desviacion estandar del  MAE : 4.829 €/MWh\n",
      "\n",
      "Media  MAPE en el periodo: 47.072 %\n",
      "Desviacion estandar del  MAPE : 463.977 %\n",
      "\n",
      "El RMSE para el periodo es: 6.763 €/MWh\n",
      "Porcentaje de acierto tendencias: 83.45\n",
      "220\n",
      "Media  MAE en el periodo: 4.829 €/MWh\n",
      "Desviacion estandar del  MAE : 4.775 €/MWh\n",
      "\n",
      "Media  MAPE en el periodo: 47.796 %\n",
      "Desviacion estandar del  MAPE : 466.981 %\n",
      "\n",
      "El RMSE para el periodo es: 6.791 €/MWh\n",
      "Porcentaje de acierto tendencias: 83.49\n",
      "365\n"
     ]
    }
   ],
   "source": [
    "for dias in [7, 14, 21, 30, 60, 90, 150, 220, 365]:\n",
    "    print(dias)\n",
    "    print(\"**********************************\")\n",
    "    pred, real, dates = bascktesting_regresion_lineal(db.loc[\"2019\":\"2021-04\"], 2020, 1, rolling_window = True, days_start = dias)\n",
    "    resultados = pd.DataFrame({\"Pred\":pred, \"Real\":real}, index = dates)\n",
    "    resultados[\"Pred\"][resultados.loc[:, \"Pred\"] < 0] = 0\n",
    "    calculo_metricas(resultados)"
   ]
  },
  {
   "cell_type": "markdown",
   "metadata": {},
   "source": [
    "### Calculo de las métricas"
   ]
  },
  {
   "cell_type": "code",
   "execution_count": 25,
   "metadata": {},
   "outputs": [
    {
     "name": "stdout",
     "output_type": "stream",
     "text": [
      "Media  MAE en el periodo: 4.869 €/MWh\n",
      "Desviacion estandar del  MAE : 4.806 €/MWh\n",
      "\n",
      "Media  MAPE en el periodo: 49.442 %\n",
      "Desviacion estandar del  MAPE : 486.718 %\n",
      "\n",
      "El RMSE para el periodo es: 6.841 €/MWh\n",
      "Porcentaje de acierto tendencias: 83.57\n"
     ]
    }
   ],
   "source": [
    "resultados = pd.DataFrame({\"Pred\":pred, \"Real\":real}, index = dates)\n",
    "resultados[\"Pred\"][resultados.loc[:, \"Pred\"] < 0] = 0\n",
    "\n",
    "def calculo_metricas(dataframe):\n",
    "    dataframe.loc[:, \"MAE\"] = mae(dataframe.Pred, dataframe.Real)\n",
    "    dataframe.loc[:, \"MAPE\"] = mape(dataframe.Pred, dataframe.Real)\n",
    "    \n",
    "    for metrica in [\"MAE\", \"MAPE\"]:\n",
    "        if metrica == \"MAE\":\n",
    "            print(\"Media \", metrica, \"en el periodo:\", round(float(dataframe.loc[\"2020-01\":\"2021-04\"][[metrica]].mean()), 3), '€/MWh\\nDesviacion estandar del ', metrica,':' ,round(float(dataframe.loc[\"2020-01\":\"2021-04\"][[metrica]].std()), 3), \"€/MWh\\n\")\n",
    "        else:\n",
    "            print(\"Media \", metrica, \"en el periodo:\", round(float(dataframe.loc[\"2020-01\":\"2021-04\"][[metrica]].mean()), 3), '%\\nDesviacion estandar del ', metrica,':' ,round(float(dataframe.loc[\"2020-01\":\"2021-04\"][[metrica]].std()), 3), \"%\\n\")\n",
    "    \n",
    "    print('El RMSE para el periodo es:', round(rmse(dataframe.Pred, dataframe.Real),3), \"€/MWh\")\n",
    "    \n",
    "    metricas_mensuales_dataframe = dataframe.loc[\"2020-01\":\"2021-04\"].groupby([dataframe.loc[\"2020-01\":\"2021-04\"].index.year, dataframe.loc[\"2020-01\":\"2021-04\"].index.month])[[\"MAE\", \"MAPE\"]].mean()\n",
    "    up_down_price = dataframe[[\"Pred\", \"Real\"]].diff(1).dropna()\n",
    "#     up_down_price = up_down_price[up_down_price.loc[:, \"Real\"] != 0.00]\n",
    "    up_down_price.loc[:, \"Ind_Pred\"] = [1 if data > 0 else 0 for data in up_down_price.Pred]\n",
    "    up_down_price.loc[:, \"Ind_Real\"] = [1 if data > 0 else 0 for data in up_down_price.Real]\n",
    "    up_down_price.loc[:, \"Aciertos\"] = up_down_price.loc[:, \"Ind_Pred\"] == up_down_price.loc[:, \"Ind_Real\"]\n",
    "    print('Porcentaje de acierto tendencias:', round(up_down_price.Aciertos.value_counts()[1] / up_down_price.Aciertos.value_counts().sum() * 100, 2))\n",
    "    return dataframe, metricas_mensuales_dataframe\n",
    "\n",
    "reg_ridge, reg_ridge_metricas_mensuales = calculo_metricas(resultados)"
   ]
  },
  {
   "cell_type": "code",
   "execution_count": null,
   "metadata": {},
   "outputs": [],
   "source": []
  }
 ],
 "metadata": {
  "kernelspec": {
   "display_name": "Python 3",
   "language": "python",
   "name": "python3"
  },
  "language_info": {
   "codemirror_mode": {
    "name": "ipython",
    "version": 3
   },
   "file_extension": ".py",
   "mimetype": "text/x-python",
   "name": "python",
   "nbconvert_exporter": "python",
   "pygments_lexer": "ipython3",
   "version": "3.8.3"
  }
 },
 "nbformat": 4,
 "nbformat_minor": 4
}
