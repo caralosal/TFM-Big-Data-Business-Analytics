{
 "cells": [
  {
   "cell_type": "markdown",
   "metadata": {},
   "source": [
    "### Importación de los módulos necesarios"
   ]
  },
  {
   "cell_type": "code",
   "execution_count": 1,
   "metadata": {},
   "outputs": [
    {
     "name": "stdout",
     "output_type": "stream",
     "text": [
      "Versión pandas: 1.0.5\n",
      "Versión numpy: 1.19.5\n",
      "Versión matplotlib: 3.2.2\n",
      "Version statsmodels 0.12.2\n"
     ]
    }
   ],
   "source": [
    "import os\n",
    "import pandas as pd\n",
    "import numpy as np\n",
    "import matplotlib\n",
    "import matplotlib.pyplot as plt\n",
    "from pmdarima.arima import ndiffs, nsdiffs\n",
    "from datetime import datetime\n",
    "import statsmodels.api as sm\n",
    "from statsmodels.graphics.tsaplots import plot_acf, plot_pacf\n",
    "import seaborn as sns\n",
    "from dateutil.relativedelta import relativedelta\n",
    "from metricas import calculo_metricas\n",
    "\n",
    "import warnings\n",
    "warnings.simplefilter(\"ignore\")\n",
    "\n",
    "# Mostramos las versiones de los módulos para posibles reproducciones del código\n",
    "\n",
    "print('Versión pandas:', pd.__version__)\n",
    "print('Versión numpy:', np.__version__)\n",
    "print('Versión matplotlib:', matplotlib.__version__)\n",
    "print('Version statsmodels', sm.__version__)"
   ]
  },
  {
   "cell_type": "markdown",
   "metadata": {},
   "source": [
    "### Lectura del dataframe horario"
   ]
  },
  {
   "cell_type": "code",
   "execution_count": 2,
   "metadata": {},
   "outputs": [],
   "source": [
    "df = pd.read_csv('Data/datos_horarios_prediccion_electricidad.csv', index_col = 0)\n",
    "\n",
    "df.index = pd.to_datetime(df.index)\n",
    "\n",
    "df = df.sort_index()\n"
   ]
  },
  {
   "cell_type": "code",
   "execution_count": 3,
   "metadata": {},
   "outputs": [],
   "source": [
    "df = pd.read_csv('Data/dataframe.csv', index_col = 0)\n",
    "df.index = pd.to_datetime(df.index)\n",
    "df = df.drop(columns = [\"Festivo_Regional\", \"Humedad_Relativa\", \"Precipitacion\", \"Radiacion\", \"Velocidad_Viento\"])\n",
    "\n",
    "df.loc[:, \"lag_24\"] = df.Spot_electricidad.shift(24)\n",
    "df.loc[:, \"lag_48\"] = df.Spot_electricidad.shift(48)\n",
    "df.loc[:, \"lag_1_semana\"] = df.Spot_electricidad.shift(24*7)"
   ]
  },
  {
   "cell_type": "markdown",
   "metadata": {},
   "source": [
    "### Modelo regresión lineal"
   ]
  },
  {
   "cell_type": "code",
   "execution_count": 33,
   "metadata": {
    "scrolled": true
   },
   "outputs": [],
   "source": [
    "db = df.dropna()\n",
    "# db = db.drop(columns = [\"Prevision_Demanda\", \"Prevision_Eol_Fotov\", \"Festivo_Regional\", \"Brent\",\n",
    "#                        \"Humedad_Relativa\", \"Precipitacion\", \"Radiacion\"])\n",
    "db = db.drop(columns = [\"Prevision_Demanda\", \"Prevision_Eol_Fotov\", \"Festivo_Regional\", \"Brent\",\n",
    "                       \"Humedad_Relativa\", \"Precipitacion\", \"Radiacion\", \"Velocidad_Viento\"])\n",
    "\n",
    "\n",
    "\n",
    "db = db.dropna()\n",
    "X = sm.add_constant(db)\n",
    "y = X.pop('Spot_electricidad')\n",
    "\n",
    "model = sm.OLS(y,X).fit()\n",
    "\n",
    "model.summary()"
   ]
  },
  {
   "cell_type": "markdown",
   "metadata": {},
   "source": [
    "### Backtesting regresión lineal"
   ]
  },
  {
   "cell_type": "code",
   "execution_count": 7,
   "metadata": {},
   "outputs": [],
   "source": [
    "def bascktesting_regresion_lineal(db, año, mes, rolling_window, days_start):\n",
    "    fecha = datetime(año, mes, 1)\n",
    "    fecha_str = str(año) + '-' + str(mes) + '-' + str(1)\n",
    "    \n",
    "    db = db.dropna()\n",
    "    array_real, array_pred, array_date = np.zeros(len(db.loc[fecha_str:])), np.zeros(len(db.loc[fecha_str:])), []\n",
    "\n",
    "    # En caso de que haya rolling window\n",
    "    if rolling_window == True:\n",
    "        for day in range(int(len(db.loc[fecha_str:]) / 24)):\n",
    "            fecha_end_train = fecha + relativedelta(days = day)\n",
    "            fecha_start_train = fecha_end_train - relativedelta(days = days_start)\n",
    "            fecha_end_train = str(fecha_end_train.year) + \"-\" + str(fecha_end_train.month) + \"-\" + str(fecha_end_train.day)\n",
    "            fecha_start_train = str(fecha_start_train.year) + \"-\" + str(fecha_start_train.month) + \"-\" + str(fecha_start_train.day)\n",
    "            db_aux = db.loc[fecha_start_train:fecha_end_train]\n",
    "            \n",
    "            # Dataframe de Entrenamiento\n",
    "            X_train = sm.add_constant(db_aux)\n",
    "            y_train = X_train.pop('Spot_electricidad')\n",
    "            \n",
    "            # Dataframe de Test\n",
    "            X_test = X_train.loc[fecha_end_train]\n",
    "            y_test = y_train.pop(fecha_end_train)\n",
    "\n",
    "            # Quitamos al dataframe de train, el dataframe de test\n",
    "            X_train = X_train.drop(index = X_train.iloc[-24:].index)\n",
    "\n",
    "            # Entrenamos el modelo\n",
    "            model = sm.OLS(y_train, X_train).fit()\n",
    "            \n",
    "            # Realizamos las predicciones\n",
    "            pred = model.predict(X_test)\n",
    "            date = pred.index\n",
    "\n",
    "            array_date.append(date)\n",
    "            array_pred[day*24:day*24 + 24] = pred\n",
    "            array_real[day*24:day*24 + 24] = y_test\n",
    "        \n",
    "    # En caso de que no haya rolling window, siempre cogemos todo el dataframe disponible\n",
    "    else:\n",
    "        for day in range(int(len(db.loc[fecha_str:]) / 24)):\n",
    "            fecha_end_train = fecha + relativedelta(days = day)\n",
    "            fecha_end_train = str(fecha_end_train.year) + \"-\" + str(fecha_end_train.month) + \"-\" + str(fecha_end_train.day)\n",
    "            db_aux = db.loc[:fecha_end_train]\n",
    "\n",
    "            # Dataframe de Entrenamiento\n",
    "            X_train = sm.add_constant(db_aux)\n",
    "            y_train = X_train.pop('Spot_electricidad')\n",
    "            \n",
    "            # Dataframe de Test\n",
    "            X_test = X_train.loc[fecha_end_train]\n",
    "            y_test = y_train.pop(fecha_end_train)\n",
    "            \n",
    "            # Quitamos al dataframe de train, el dataframe de test\n",
    "            X_train = X_train.drop(index = X_train.iloc[-24:].index)\n",
    "            \n",
    "            # Entrenamos el modelo\n",
    "            model = sm.OLS(y_train, X_train).fit()\n",
    "            \n",
    "            # Realizamos las predicciones\n",
    "            pred = model.predict(X_test)\n",
    "            date = pred.index\n",
    "\n",
    "            array_date.append(date)\n",
    "            array_pred[day*24:day*24 + 24] = pred\n",
    "            array_real[day*24:day*24 + 24] = y_test\n",
    "            \n",
    "    array_date = [item for sublist in array_date for item in sublist]\n",
    "    return array_pred, array_real, array_date\n",
    "    \n",
    "pred, real, dates = bascktesting_regresion_lineal(db.loc[\"2019\":], 2020, 6, rolling_window = False, days_start = 30)"
   ]
  },
  {
   "cell_type": "code",
   "execution_count": 9,
   "metadata": {
    "collapsed": true
   },
   "outputs": [
    {
     "name": "stdout",
     "output_type": "stream",
     "text": [
      "7\n",
      "     MAE  MAE (median)    MAPE  WMAPE   RMSE  % Trend\n",
      "0  20.53          9.57  151.78  18.35  46.43    81.43\n",
      "14\n",
      "      MAE  MAE (median)    MAPE   WMAPE     RMSE  % Trend\n",
      "0  166.02         23.73  179.51  148.32  1682.29    80.95\n",
      "21\n",
      "     MAE  MAE (median)   MAPE  WMAPE   RMSE  % Trend\n",
      "0  14.23          9.46  91.96  12.71  21.62    83.39\n",
      "30\n",
      "     MAE  MAE (median)    MAPE  WMAPE   RMSE  % Trend\n",
      "0  11.95          8.12  105.58  10.68  18.82    83.58\n",
      "60\n",
      "     MAE  MAE (median)    MAPE  WMAPE   RMSE  % Trend\n",
      "0  10.62          7.12  123.34   9.49  16.82     84.2\n",
      "90\n",
      "     MAE  MAE (median)    MAPE  WMAPE   RMSE  % Trend\n",
      "0  10.58          7.31  141.23   9.45  16.59    84.15\n",
      "150\n",
      "     MAE  MAE (median)    MAPE  WMAPE   RMSE  % Trend\n",
      "0  10.49          6.96  135.08   9.37  16.72    84.24\n",
      "220\n",
      "     MAE  MAE (median)    MAPE  WMAPE   RMSE  % Trend\n",
      "0  10.47          7.05  133.98   9.35  16.79    84.35\n",
      "365\n",
      "     MAE  MAE (median)    MAPE  WMAPE   RMSE  % Trend\n",
      "0  11.22          7.39  127.68  10.02  18.49    84.22\n"
     ]
    }
   ],
   "source": [
    "# Backtesting rapido\n",
    "\n",
    "for dias in [7, 14, 21, 30, 60, 90, 150, 220, 365]:\n",
    "    print(dias)\n",
    "    pred, real, dates = bascktesting_regresion_lineal(db.loc[\"2019\":], 2020, 6, rolling_window = True, days_start = dias)\n",
    "    resultados = pd.DataFrame({\"Pred\":pred, \"Real\":real}, index = dates)\n",
    "    resultados[\"Pred\"][resultados.loc[:, \"Pred\"] < 0] = 0\n",
    "    calculo_metricas(resultados)"
   ]
  },
  {
   "cell_type": "markdown",
   "metadata": {},
   "source": [
    "### Cálculo de las métricas"
   ]
  },
  {
   "cell_type": "code",
   "execution_count": 8,
   "metadata": {},
   "outputs": [
    {
     "name": "stdout",
     "output_type": "stream",
     "text": [
      "    MAE  MAE (median)    MAPE  WMAPE  RMSE  % Trend\n",
      "0  12.0          7.75  153.66  10.72  20.2    83.94\n"
     ]
    }
   ],
   "source": [
    "resultados = pd.DataFrame({\"Pred\":pred, \"Real\":real}, index = dates)\n",
    "resultados[\"Pred\"][resultados.loc[:, \"Pred\"] < 0] = 0\n",
    "\n",
    "\n",
    "reg_lineal, reg_lineal_metricas_mensuales, met = calculo_metricas(resultados)"
   ]
  },
  {
   "cell_type": "code",
   "execution_count": null,
   "metadata": {},
   "outputs": [],
   "source": [
    "reg_lineal.to_csv('Resultados/resultados_reg_lineal.csv')"
   ]
  },
  {
   "cell_type": "code",
   "execution_count": null,
   "metadata": {},
   "outputs": [],
   "source": [
    "import plotly.graph_objects as go\n",
    "\n",
    "def graficas(dataframe):\n",
    "    # Create traces\n",
    "    fig = go.Figure()\n",
    "    fig.add_trace(go.Scatter(x=dataframe.loc[\"2019-01\":].index, y=dataframe.loc[\"2019-01\":].Real,\n",
    "                        mode='lines',\n",
    "                        name='Real')).add_trace(go.Scatter(x=dataframe.loc[\"2019-01\":].index, y=dataframe.loc[\"2019-01\":].Pred,\n",
    "                        mode='lines',\n",
    "                        name='Predicciones'))\n",
    "    \n",
    "    fig.show()\n",
    "    \n",
    "    # Create traces\n",
    "#     fig = go.Figure()\n",
    "#     fig.add_trace(go.Scatter(x=dataframe.loc[\"2019-07\"].index, y=dataframe.loc[\"2019-07\"].Real,\n",
    "#                     mode='lines',\n",
    "#                     name='Real')).add_trace(go.Scatter(x=dataframe.loc[\"2019-07\"].index, y=dataframe.loc[\"2019-07\"].Pred,\n",
    "#                     mode='lines',\n",
    "#                     name='Predicciones'))\n",
    "\n",
    "#     fig.show()\n",
    "    \n",
    "graficas(reg_lineal)"
   ]
  },
  {
   "cell_type": "code",
   "execution_count": null,
   "metadata": {},
   "outputs": [],
   "source": []
  }
 ],
 "metadata": {
  "kernelspec": {
   "display_name": "Python 3",
   "language": "python",
   "name": "python3"
  },
  "language_info": {
   "codemirror_mode": {
    "name": "ipython",
    "version": 3
   },
   "file_extension": ".py",
   "mimetype": "text/x-python",
   "name": "python",
   "nbconvert_exporter": "python",
   "pygments_lexer": "ipython3",
   "version": "3.8.3"
  }
 },
 "nbformat": 4,
 "nbformat_minor": 4
}
